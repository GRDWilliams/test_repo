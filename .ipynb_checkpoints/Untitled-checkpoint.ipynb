{
 "cells": [
  {
   "cell_type": "code",
   "execution_count": 46,
   "id": "2a21a93d",
   "metadata": {},
   "outputs": [],
   "source": [
    "test_string = \"Hello, my name is George!\""
   ]
  },
  {
   "cell_type": "code",
   "execution_count": 22,
   "id": "23640f69",
   "metadata": {},
   "outputs": [],
   "source": [
    "def reverse_word(a_word):\n",
    "    rev_word = [ch for ch in a_word]\n",
    "    rev_word.reverse()\n",
    "    return ''.join(rev_word)"
   ]
  },
  {
   "cell_type": "code",
   "execution_count": 42,
   "id": "8c9ee02e",
   "metadata": {},
   "outputs": [],
   "source": [
    "def spinWords(a_string):\n",
    "    split_string = a_string.split()\n",
    "    spun_string = \"\"\n",
    "    for word in split_string:\n",
    "        if len(word) >= 5:\n",
    "            spun_string += f\"{reverse_word(word)} \"\n",
    "        else:\n",
    "            spun_string += f\"{word} \"\n",
    "    return spun_string.strip()"
   ]
  },
  {
   "cell_type": "code",
   "execution_count": 47,
   "id": "ac32707a",
   "metadata": {},
   "outputs": [
    {
     "data": {
      "text/plain": [
       "',olleH my name is !egroeG'"
      ]
     },
     "execution_count": 47,
     "metadata": {},
     "output_type": "execute_result"
    }
   ],
   "source": [
    "spinWords(test_string)"
   ]
  }
 ],
 "metadata": {
  "kernelspec": {
   "display_name": "Python 3 (ipykernel)",
   "language": "python",
   "name": "python3"
  },
  "language_info": {
   "codemirror_mode": {
    "name": "ipython",
    "version": 3
   },
   "file_extension": ".py",
   "mimetype": "text/x-python",
   "name": "python",
   "nbconvert_exporter": "python",
   "pygments_lexer": "ipython3",
   "version": "3.10.6"
  },
  "toc": {
   "base_numbering": 1,
   "nav_menu": {},
   "number_sections": true,
   "sideBar": true,
   "skip_h1_title": false,
   "title_cell": "Table of Contents",
   "title_sidebar": "Contents",
   "toc_cell": false,
   "toc_position": {},
   "toc_section_display": true,
   "toc_window_display": false
  }
 },
 "nbformat": 4,
 "nbformat_minor": 5
}
