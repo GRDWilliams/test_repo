{
 "cells": [
  {
   "cell_type": "code",
   "execution_count": 3,
   "id": "51fb96a8",
   "metadata": {},
   "outputs": [],
   "source": [
    "import pandas as pd\n",
    "import numpy as np\n",
    "import matplotlib.pyplot as plt\n",
    "import seaborn as sns"
   ]
  },
  {
   "cell_type": "code",
   "execution_count": 6,
   "id": "c2e4b6dc",
   "metadata": {},
   "outputs": [],
   "source": [
    "restaurant_revenue = pd.read_csv('restaurant_revenue.csv')"
   ]
  },
  {
   "cell_type": "code",
   "execution_count": 7,
   "id": "5bfa5573",
   "metadata": {},
   "outputs": [
    {
     "data": {
      "text/html": [
       "<div>\n",
       "<style scoped>\n",
       "    .dataframe tbody tr th:only-of-type {\n",
       "        vertical-align: middle;\n",
       "    }\n",
       "\n",
       "    .dataframe tbody tr th {\n",
       "        vertical-align: top;\n",
       "    }\n",
       "\n",
       "    .dataframe thead th {\n",
       "        text-align: right;\n",
       "    }\n",
       "</style>\n",
       "<table border=\"1\" class=\"dataframe\">\n",
       "  <thead>\n",
       "    <tr style=\"text-align: right;\">\n",
       "      <th></th>\n",
       "      <th>Number_of_Customers</th>\n",
       "      <th>Menu_Price</th>\n",
       "      <th>Marketing_Spend</th>\n",
       "      <th>Cuisine_Type</th>\n",
       "      <th>Average_Customer_Spending</th>\n",
       "      <th>Promotions</th>\n",
       "      <th>Reviews</th>\n",
       "      <th>Monthly_Revenue</th>\n",
       "    </tr>\n",
       "  </thead>\n",
       "  <tbody>\n",
       "    <tr>\n",
       "      <th>0</th>\n",
       "      <td>61</td>\n",
       "      <td>43.117635</td>\n",
       "      <td>12.663793</td>\n",
       "      <td>Japanese</td>\n",
       "      <td>36.236133</td>\n",
       "      <td>0</td>\n",
       "      <td>45</td>\n",
       "      <td>350.912040</td>\n",
       "    </tr>\n",
       "    <tr>\n",
       "      <th>1</th>\n",
       "      <td>24</td>\n",
       "      <td>40.020077</td>\n",
       "      <td>4.577892</td>\n",
       "      <td>Italian</td>\n",
       "      <td>17.952562</td>\n",
       "      <td>0</td>\n",
       "      <td>36</td>\n",
       "      <td>221.319091</td>\n",
       "    </tr>\n",
       "    <tr>\n",
       "      <th>2</th>\n",
       "      <td>81</td>\n",
       "      <td>41.981485</td>\n",
       "      <td>4.652911</td>\n",
       "      <td>Japanese</td>\n",
       "      <td>22.600420</td>\n",
       "      <td>1</td>\n",
       "      <td>91</td>\n",
       "      <td>326.529763</td>\n",
       "    </tr>\n",
       "    <tr>\n",
       "      <th>3</th>\n",
       "      <td>70</td>\n",
       "      <td>43.005307</td>\n",
       "      <td>4.416053</td>\n",
       "      <td>Italian</td>\n",
       "      <td>18.984098</td>\n",
       "      <td>1</td>\n",
       "      <td>59</td>\n",
       "      <td>348.190573</td>\n",
       "    </tr>\n",
       "    <tr>\n",
       "      <th>4</th>\n",
       "      <td>30</td>\n",
       "      <td>17.456199</td>\n",
       "      <td>3.475052</td>\n",
       "      <td>Italian</td>\n",
       "      <td>12.766143</td>\n",
       "      <td>1</td>\n",
       "      <td>30</td>\n",
       "      <td>185.009121</td>\n",
       "    </tr>\n",
       "  </tbody>\n",
       "</table>\n",
       "</div>"
      ],
      "text/plain": [
       "   Number_of_Customers  Menu_Price  Marketing_Spend Cuisine_Type  \\\n",
       "0                   61   43.117635        12.663793     Japanese   \n",
       "1                   24   40.020077         4.577892      Italian   \n",
       "2                   81   41.981485         4.652911     Japanese   \n",
       "3                   70   43.005307         4.416053      Italian   \n",
       "4                   30   17.456199         3.475052      Italian   \n",
       "\n",
       "   Average_Customer_Spending  Promotions  Reviews  Monthly_Revenue  \n",
       "0                  36.236133           0       45       350.912040  \n",
       "1                  17.952562           0       36       221.319091  \n",
       "2                  22.600420           1       91       326.529763  \n",
       "3                  18.984098           1       59       348.190573  \n",
       "4                  12.766143           1       30       185.009121  "
      ]
     },
     "execution_count": 7,
     "metadata": {},
     "output_type": "execute_result"
    }
   ],
   "source": [
    "restaurant_revenue.head(5)"
   ]
  },
  {
   "cell_type": "code",
   "execution_count": 8,
   "id": "41f584e5",
   "metadata": {},
   "outputs": [
    {
     "name": "stdout",
     "output_type": "stream",
     "text": [
      "<class 'pandas.core.frame.DataFrame'>\n",
      "RangeIndex: 1000 entries, 0 to 999\n",
      "Data columns (total 8 columns):\n",
      " #   Column                     Non-Null Count  Dtype  \n",
      "---  ------                     --------------  -----  \n",
      " 0   Number_of_Customers        1000 non-null   int64  \n",
      " 1   Menu_Price                 1000 non-null   float64\n",
      " 2   Marketing_Spend            1000 non-null   float64\n",
      " 3   Cuisine_Type               1000 non-null   object \n",
      " 4   Average_Customer_Spending  1000 non-null   float64\n",
      " 5   Promotions                 1000 non-null   int64  \n",
      " 6   Reviews                    1000 non-null   int64  \n",
      " 7   Monthly_Revenue            1000 non-null   float64\n",
      "dtypes: float64(4), int64(3), object(1)\n",
      "memory usage: 62.6+ KB\n"
     ]
    }
   ],
   "source": [
    "restaurant_revenue.info()"
   ]
  },
  {
   "cell_type": "code",
   "execution_count": null,
   "id": "d40e5243",
   "metadata": {},
   "outputs": [],
   "source": []
  },
  {
   "cell_type": "code",
   "execution_count": null,
   "id": "1ad36266",
   "metadata": {},
   "outputs": [],
   "source": []
  },
  {
   "cell_type": "code",
   "execution_count": null,
   "id": "0c85dc36",
   "metadata": {},
   "outputs": [],
   "source": []
  },
  {
   "cell_type": "code",
   "execution_count": null,
   "id": "11f109c9",
   "metadata": {},
   "outputs": [],
   "source": []
  }
 ],
 "metadata": {
  "kernelspec": {
   "display_name": "Python 3 (ipykernel)",
   "language": "python",
   "name": "python3"
  },
  "language_info": {
   "codemirror_mode": {
    "name": "ipython",
    "version": 3
   },
   "file_extension": ".py",
   "mimetype": "text/x-python",
   "name": "python",
   "nbconvert_exporter": "python",
   "pygments_lexer": "ipython3",
   "version": "3.10.6"
  },
  "toc": {
   "base_numbering": 1,
   "nav_menu": {},
   "number_sections": true,
   "sideBar": true,
   "skip_h1_title": false,
   "title_cell": "Table of Contents",
   "title_sidebar": "Contents",
   "toc_cell": false,
   "toc_position": {},
   "toc_section_display": true,
   "toc_window_display": false
  }
 },
 "nbformat": 4,
 "nbformat_minor": 5
}
